{
 "cells": [
  {
   "cell_type": "markdown",
   "metadata": {},
   "source": [
    "# Parametric statistics\n",
    "Sample data can be adequately modeled by distribution with a fixed set of parameters <br>\n",
    "Let's introduce some fundamental distributions by using latexify\n",
    "\n"
   ]
  },
  {
   "cell_type": "code",
   "execution_count": 1,
   "metadata": {},
   "outputs": [],
   "source": [
    "import latexify\n",
    "import math"
   ]
  },
  {
   "cell_type": "markdown",
   "metadata": {},
   "source": [
    "<hr>\n",
    "\n",
    "## Binomial Distribution\n",
    "parameters: (n, p)\n",
    "\n",
    "latexify currently does not support combination"
   ]
  },
  {
   "cell_type": "code",
   "execution_count": 17,
   "metadata": {},
   "outputs": [
    {
     "data": {
      "text/latex": [
       "$$ \\displaystyle \\mathrm{f}(x) = \\mathrm{comb}\\left(n, x\\right) p^{x} p^{n - x} $$"
      ],
      "text/plain": [
       "<latexify.frontend.LatexifiedFunction at 0x2a8f82874f0>"
      ]
     },
     "execution_count": 17,
     "metadata": {},
     "output_type": "execute_result"
    }
   ],
   "source": [
    "n = 10\n",
    "p = 0.5\n",
    "@latexify.function(use_math_symbols=True)\n",
    "def f(x):\n",
    "    return(math.comb(n, x) * p**x * p**(n-x))\n",
    "f"
   ]
  },
  {
   "cell_type": "markdown",
   "metadata": {},
   "source": [
    "<hr>\n",
    "\n",
    "## Poisson Distribution\n",
    "parameters:($\\lambda$)\n",
    "\n",
    "lambda fails because of the same name, lambda, in default python,\n",
    "we thus changes the symbol to $\\theta$"
   ]
  },
  {
   "cell_type": "code",
   "execution_count": 31,
   "metadata": {},
   "outputs": [
    {
     "data": {
      "text/latex": [
       "$$ \\displaystyle \\mathrm{f}(x) = \\frac{{\\theta}^{x} e^{-{\\theta}}}{\\left({x}\\right)!} $$"
      ],
      "text/plain": [
       "<latexify.frontend.LatexifiedFunction at 0x2a8f8287a60>"
      ]
     },
     "execution_count": 31,
     "metadata": {},
     "output_type": "execute_result"
    }
   ],
   "source": [
    "theta = 5\n",
    "@latexify.function(use_math_symbols=True)\n",
    "def f(x):\n",
    "    return((theta**x * e**-theta) / math.factorial(x))\n",
    "f"
   ]
  },
  {
   "cell_type": "markdown",
   "metadata": {},
   "source": [
    "<hr>\n",
    "\n",
    "## Normal Distribution\n",
    "parameters:($\\mu$, $\\sigma^2$)\n",
    "\n"
   ]
  },
  {
   "cell_type": "code",
   "execution_count": 30,
   "metadata": {},
   "outputs": [
    {
     "data": {
      "text/latex": [
       "$$ \\displaystyle \\mathrm{f}(x) = \\frac{{1}}{\\sqrt{{2} {\\pi} {\\sigma}^{{2}}}} e^{\\frac{-\\left( x - {\\mu} \\right)^{{2}}}{{2} {\\sigma}^{{2}}}} $$"
      ],
      "text/plain": [
       "<latexify.frontend.LatexifiedFunction at 0x2a8f8286320>"
      ]
     },
     "execution_count": 30,
     "metadata": {},
     "output_type": "execute_result"
    }
   ],
   "source": [
    "mu = 10\n",
    "sigma = 5\n",
    "@latexify.function(use_math_symbols=True)\n",
    "def f(x):\n",
    "    return(((1/math.sqrt(2*pi*sigma**2)))* e ** (-(x - mu)**2/(2 * sigma**2)))\n",
    "f"
   ]
  },
  {
   "cell_type": "markdown",
   "metadata": {},
   "source": [
    "<hr>\n",
    "\n",
    "## Gamma Distribution\n",
    "parameters:(k, $\\theta$)"
   ]
  },
  {
   "cell_type": "code",
   "execution_count": 35,
   "metadata": {},
   "outputs": [
    {
     "data": {
      "text/latex": [
       "$$ \\displaystyle \\mathrm{f}(x) = \\frac{x^{k - {1}} e^{\\frac{-x}{{\\theta}}}}{\\Gamma\\left({k}\\right) {\\theta}^{k}} $$"
      ],
      "text/plain": [
       "<latexify.frontend.LatexifiedFunction at 0x2a8f8287f40>"
      ]
     },
     "execution_count": 35,
     "metadata": {},
     "output_type": "execute_result"
    }
   ],
   "source": [
    "k = 5\n",
    "theta = 6\n",
    "@latexify.function(use_math_symbols=True)\n",
    "def f(x):\n",
    "    return(x**(k-1)*(e ** (-x/theta))/(math.gamma(k)*theta**k))\n",
    "f"
   ]
  },
  {
   "cell_type": "markdown",
   "metadata": {},
   "source": [
    "<hr>\n",
    "\n",
    "## Reflection on Latexify\n",
    "Well, it is really interesting. Latexify can convert python code into latex expression.<br> \n",
    "When I have finished code function, latex simultaneously appears.<br> \n",
    "Unfortunately, currently some symbols are not accessible. <br>\n",
    "I believe latexify could save time for making report in the future.<br> \n",
    "Before that, I should avoid typing in latex style as possible whenever I wanna use Latexify in Python. "
   ]
  }
 ],
 "metadata": {
  "kernelspec": {
   "display_name": "Python 3.10.0 64-bit",
   "language": "python",
   "name": "python3"
  },
  "language_info": {
   "codemirror_mode": {
    "name": "ipython",
    "version": 3
   },
   "file_extension": ".py",
   "mimetype": "text/x-python",
   "name": "python",
   "nbconvert_exporter": "python",
   "pygments_lexer": "ipython3",
   "version": "3.10.0"
  },
  "orig_nbformat": 4,
  "vscode": {
   "interpreter": {
    "hash": "fb4569285eef3a3450cb62085a5b1e0da4bce0af555edc33dcf29baf3acc1368"
   }
  }
 },
 "nbformat": 4,
 "nbformat_minor": 2
}
